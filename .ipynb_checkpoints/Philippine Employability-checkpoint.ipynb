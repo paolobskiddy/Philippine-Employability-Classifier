{
 "cells": [
  {
   "cell_type": "code",
   "execution_count": 18,
   "id": "1a347a9b-bbf2-40b7-9d4f-08825bb51fe2",
   "metadata": {},
   "outputs": [],
   "source": [
    "import pandas as pd\n",
    "from sklearn.preprocessing import MinMaxScaler, normalize\n",
    "from sklearn.model_selection import train_test_split\n",
    "from tensorflow.keras.layers import Dense, InputLayer\n",
    "from tensorflow.keras.optimizers import Adam\n",
    "from tensorflow.keras.losses import BinaryCrossentropy\n",
    "from tensorflow.keras import Sequential\n",
    "from sklearn.metrics import accuracy_score, roc_auc_score, RocCurveDisplay\n",
    "import numpy as np\n",
    "import matplotlib as pyplot"
   ]
  },
  {
   "cell_type": "code",
   "execution_count": 2,
   "id": "24516b0f-b604-4300-b1e5-700700f5484d",
   "metadata": {},
   "outputs": [],
   "source": [
    "df = pd.read_excel(\"Student-Employability-Datasets.xlsx\")"
   ]
  },
  {
   "cell_type": "code",
   "execution_count": 3,
   "id": "0e7760b3-b1b4-4102-a76a-4a5f9c70c000",
   "metadata": {},
   "outputs": [
    {
     "data": {
      "text/html": [
       "<div>\n",
       "<style scoped>\n",
       "    .dataframe tbody tr th:only-of-type {\n",
       "        vertical-align: middle;\n",
       "    }\n",
       "\n",
       "    .dataframe tbody tr th {\n",
       "        vertical-align: top;\n",
       "    }\n",
       "\n",
       "    .dataframe thead th {\n",
       "        text-align: right;\n",
       "    }\n",
       "</style>\n",
       "<table border=\"1\" class=\"dataframe\">\n",
       "  <thead>\n",
       "    <tr style=\"text-align: right;\">\n",
       "      <th></th>\n",
       "      <th>Name of Student</th>\n",
       "      <th>GENERAL APPEARANCE</th>\n",
       "      <th>MANNER OF SPEAKING</th>\n",
       "      <th>PHYSICAL CONDITION</th>\n",
       "      <th>MENTAL ALERTNESS</th>\n",
       "      <th>SELF-CONFIDENCE</th>\n",
       "      <th>ABILITY TO PRESENT IDEAS</th>\n",
       "      <th>COMMUNICATION SKILLS</th>\n",
       "      <th>Student Performance Rating</th>\n",
       "      <th>CLASS</th>\n",
       "    </tr>\n",
       "  </thead>\n",
       "  <tbody>\n",
       "    <tr>\n",
       "      <th>0</th>\n",
       "      <td>Student 1</td>\n",
       "      <td>4</td>\n",
       "      <td>5</td>\n",
       "      <td>4</td>\n",
       "      <td>5</td>\n",
       "      <td>5</td>\n",
       "      <td>5</td>\n",
       "      <td>5</td>\n",
       "      <td>5</td>\n",
       "      <td>Employable</td>\n",
       "    </tr>\n",
       "    <tr>\n",
       "      <th>1</th>\n",
       "      <td>Student 2</td>\n",
       "      <td>4</td>\n",
       "      <td>4</td>\n",
       "      <td>4</td>\n",
       "      <td>4</td>\n",
       "      <td>4</td>\n",
       "      <td>4</td>\n",
       "      <td>3</td>\n",
       "      <td>5</td>\n",
       "      <td>Employable</td>\n",
       "    </tr>\n",
       "    <tr>\n",
       "      <th>2</th>\n",
       "      <td>Student 3</td>\n",
       "      <td>4</td>\n",
       "      <td>3</td>\n",
       "      <td>3</td>\n",
       "      <td>3</td>\n",
       "      <td>3</td>\n",
       "      <td>3</td>\n",
       "      <td>2</td>\n",
       "      <td>5</td>\n",
       "      <td>LessEmployable</td>\n",
       "    </tr>\n",
       "    <tr>\n",
       "      <th>3</th>\n",
       "      <td>Student 4</td>\n",
       "      <td>3</td>\n",
       "      <td>3</td>\n",
       "      <td>3</td>\n",
       "      <td>2</td>\n",
       "      <td>3</td>\n",
       "      <td>3</td>\n",
       "      <td>3</td>\n",
       "      <td>5</td>\n",
       "      <td>LessEmployable</td>\n",
       "    </tr>\n",
       "    <tr>\n",
       "      <th>4</th>\n",
       "      <td>Student 5</td>\n",
       "      <td>4</td>\n",
       "      <td>4</td>\n",
       "      <td>3</td>\n",
       "      <td>3</td>\n",
       "      <td>4</td>\n",
       "      <td>4</td>\n",
       "      <td>3</td>\n",
       "      <td>5</td>\n",
       "      <td>Employable</td>\n",
       "    </tr>\n",
       "  </tbody>\n",
       "</table>\n",
       "</div>"
      ],
      "text/plain": [
       "  Name of Student  GENERAL APPEARANCE  MANNER OF SPEAKING  PHYSICAL CONDITION  \\\n",
       "0       Student 1                   4                   5                   4   \n",
       "1       Student 2                   4                   4                   4   \n",
       "2       Student 3                   4                   3                   3   \n",
       "3       Student 4                   3                   3                   3   \n",
       "4       Student 5                   4                   4                   3   \n",
       "\n",
       "   MENTAL ALERTNESS  SELF-CONFIDENCE  ABILITY TO PRESENT IDEAS  \\\n",
       "0                 5                5                         5   \n",
       "1                 4                4                         4   \n",
       "2                 3                3                         3   \n",
       "3                 2                3                         3   \n",
       "4                 3                4                         4   \n",
       "\n",
       "   COMMUNICATION SKILLS  Student Performance Rating           CLASS  \n",
       "0                     5                           5      Employable  \n",
       "1                     3                           5      Employable  \n",
       "2                     2                           5  LessEmployable  \n",
       "3                     3                           5  LessEmployable  \n",
       "4                     3                           5      Employable  "
      ]
     },
     "execution_count": 3,
     "metadata": {},
     "output_type": "execute_result"
    }
   ],
   "source": [
    "df.head()"
   ]
  },
  {
   "cell_type": "code",
   "execution_count": 4,
   "id": "28197f2d-9ace-47c3-81aa-e182856d4c44",
   "metadata": {},
   "outputs": [
    {
     "data": {
      "text/plain": [
       "Name of Student               2982\n",
       "GENERAL APPEARANCE               4\n",
       "MANNER OF SPEAKING               4\n",
       "PHYSICAL CONDITION               4\n",
       "MENTAL ALERTNESS                 4\n",
       "SELF-CONFIDENCE                  4\n",
       "ABILITY TO PRESENT IDEAS         4\n",
       "COMMUNICATION SKILLS             4\n",
       "Student Performance Rating       3\n",
       "CLASS                            2\n",
       "dtype: int64"
      ]
     },
     "execution_count": 4,
     "metadata": {},
     "output_type": "execute_result"
    }
   ],
   "source": [
    "df.nunique()"
   ]
  },
  {
   "cell_type": "code",
   "execution_count": 5,
   "id": "1988101d-72b8-435b-ad49-16174f0d8def",
   "metadata": {},
   "outputs": [
    {
     "data": {
      "text/plain": [
       "(2982, 10)"
      ]
     },
     "execution_count": 5,
     "metadata": {},
     "output_type": "execute_result"
    }
   ],
   "source": [
    "df.shape"
   ]
  },
  {
   "cell_type": "code",
   "execution_count": 6,
   "id": "595b0446-3903-43ec-93a7-d57b4cdeaa0a",
   "metadata": {},
   "outputs": [
    {
     "name": "stderr",
     "output_type": "stream",
     "text": [
      "C:\\Users\\ML_USER\\AppData\\Local\\Temp\\ipykernel_4076\\3826035328.py:1: FutureWarning: Downcasting behavior in `replace` is deprecated and will be removed in a future version. To retain the old behavior, explicitly call `result.infer_objects(copy=False)`. To opt-in to the future behavior, set `pd.set_option('future.no_silent_downcasting', True)`\n",
      "  df[\"CLASS\"] = df[\"CLASS\"].replace(to_replace=[\"Employable\", \"LessEmployable\"], value=[1,0])\n"
     ]
    }
   ],
   "source": [
    "df[\"CLASS\"] = df[\"CLASS\"].replace(to_replace=[\"Employable\", \"LessEmployable\"], value=[1,0])"
   ]
  },
  {
   "cell_type": "code",
   "execution_count": 7,
   "id": "228313e0-1e8e-4800-966b-02ea6be2ee0b",
   "metadata": {},
   "outputs": [],
   "source": [
    "X = df.iloc[:,1:9]\n",
    "y = df[\"CLASS\"]\n",
    "scaler = MinMaxScaler()\n",
    "X_train, X_test, y_train, y_test = train_test_split(X, y, test_size = 0.2, shuffle = True)\n",
    "X_train_scaled = scaler.fit_transform(X_train)\n",
    "X_test_scaled = scaler.transform(X_test)"
   ]
  },
  {
   "cell_type": "code",
   "execution_count": 8,
   "id": "e72f7195-075e-4031-a145-a681895d77dc",
   "metadata": {},
   "outputs": [],
   "source": [
    "model = Sequential()\n",
    "model.add(InputLayer(shape=[X_train_scaled.shape[1],]))\n",
    "model.add(Dense(128, activation='relu'))\n",
    "model.add(Dense(64, activation='relu'))\n",
    "model.add(Dense(1, activation='sigmoid'))\n",
    "model.compile(optimizer=Adam(learning_rate=0.01),loss='BinaryCrossentropy', metrics=['accuracy'])"
   ]
  },
  {
   "cell_type": "code",
   "execution_count": 9,
   "id": "26844db9-5e6c-47df-a46e-7ae246adcfaa",
   "metadata": {},
   "outputs": [
    {
     "name": "stdout",
     "output_type": "stream",
     "text": [
      "Epoch 1/120\n",
      "\u001b[1m38/38\u001b[0m \u001b[32m━━━━━━━━━━━━━━━━━━━━\u001b[0m\u001b[37m\u001b[0m \u001b[1m1s\u001b[0m 6ms/step - accuracy: 0.5964 - loss: 0.6772 - val_accuracy: 0.6052 - val_loss: 0.6654\n",
      "Epoch 2/120\n",
      "\u001b[1m38/38\u001b[0m \u001b[32m━━━━━━━━━━━━━━━━━━━━\u001b[0m\u001b[37m\u001b[0m \u001b[1m0s\u001b[0m 3ms/step - accuracy: 0.6079 - loss: 0.6569 - val_accuracy: 0.6127 - val_loss: 0.6388\n",
      "Epoch 3/120\n",
      "\u001b[1m38/38\u001b[0m \u001b[32m━━━━━━━━━━━━━━━━━━━━\u001b[0m\u001b[37m\u001b[0m \u001b[1m0s\u001b[0m 3ms/step - accuracy: 0.6153 - loss: 0.6406 - val_accuracy: 0.6446 - val_loss: 0.6382\n",
      "Epoch 4/120\n",
      "\u001b[1m38/38\u001b[0m \u001b[32m━━━━━━━━━━━━━━━━━━━━\u001b[0m\u001b[37m\u001b[0m \u001b[1m0s\u001b[0m 3ms/step - accuracy: 0.6589 - loss: 0.6321 - val_accuracy: 0.6463 - val_loss: 0.6244\n",
      "Epoch 5/120\n",
      "\u001b[1m38/38\u001b[0m \u001b[32m━━━━━━━━━━━━━━━━━━━━\u001b[0m\u001b[37m\u001b[0m \u001b[1m0s\u001b[0m 3ms/step - accuracy: 0.6348 - loss: 0.6213 - val_accuracy: 0.6840 - val_loss: 0.5929\n",
      "Epoch 6/120\n",
      "\u001b[1m38/38\u001b[0m \u001b[32m━━━━━━━━━━━━━━━━━━━━\u001b[0m\u001b[37m\u001b[0m \u001b[1m0s\u001b[0m 3ms/step - accuracy: 0.6836 - loss: 0.6010 - val_accuracy: 0.6672 - val_loss: 0.6182\n",
      "Epoch 7/120\n",
      "\u001b[1m38/38\u001b[0m \u001b[32m━━━━━━━━━━━━━━━━━━━━\u001b[0m\u001b[37m\u001b[0m \u001b[1m0s\u001b[0m 3ms/step - accuracy: 0.6578 - loss: 0.6238 - val_accuracy: 0.5826 - val_loss: 0.6834\n",
      "Epoch 8/120\n",
      "\u001b[1m38/38\u001b[0m \u001b[32m━━━━━━━━━━━━━━━━━━━━\u001b[0m\u001b[37m\u001b[0m \u001b[1m0s\u001b[0m 3ms/step - accuracy: 0.6983 - loss: 0.5923 - val_accuracy: 0.6697 - val_loss: 0.5773\n",
      "Epoch 9/120\n",
      "\u001b[1m38/38\u001b[0m \u001b[32m━━━━━━━━━━━━━━━━━━━━\u001b[0m\u001b[37m\u001b[0m \u001b[1m0s\u001b[0m 3ms/step - accuracy: 0.7143 - loss: 0.5610 - val_accuracy: 0.6798 - val_loss: 0.5990\n",
      "Epoch 10/120\n",
      "\u001b[1m38/38\u001b[0m \u001b[32m━━━━━━━━━━━━━━━━━━━━\u001b[0m\u001b[37m\u001b[0m \u001b[1m0s\u001b[0m 3ms/step - accuracy: 0.7034 - loss: 0.5851 - val_accuracy: 0.6899 - val_loss: 0.5603\n",
      "Epoch 11/120\n",
      "\u001b[1m38/38\u001b[0m \u001b[32m━━━━━━━━━━━━━━━━━━━━\u001b[0m\u001b[37m\u001b[0m \u001b[1m0s\u001b[0m 3ms/step - accuracy: 0.7342 - loss: 0.5408 - val_accuracy: 0.7234 - val_loss: 0.5643\n",
      "Epoch 12/120\n",
      "\u001b[1m38/38\u001b[0m \u001b[32m━━━━━━━━━━━━━━━━━━━━\u001b[0m\u001b[37m\u001b[0m \u001b[1m0s\u001b[0m 3ms/step - accuracy: 0.7301 - loss: 0.5611 - val_accuracy: 0.7133 - val_loss: 0.5275\n",
      "Epoch 13/120\n",
      "\u001b[1m38/38\u001b[0m \u001b[32m━━━━━━━━━━━━━━━━━━━━\u001b[0m\u001b[37m\u001b[0m \u001b[1m0s\u001b[0m 3ms/step - accuracy: 0.7355 - loss: 0.5301 - val_accuracy: 0.7443 - val_loss: 0.5251\n",
      "Epoch 14/120\n",
      "\u001b[1m38/38\u001b[0m \u001b[32m━━━━━━━━━━━━━━━━━━━━\u001b[0m\u001b[37m\u001b[0m \u001b[1m0s\u001b[0m 3ms/step - accuracy: 0.7159 - loss: 0.5374 - val_accuracy: 0.7267 - val_loss: 0.5316\n",
      "Epoch 15/120\n",
      "\u001b[1m38/38\u001b[0m \u001b[32m━━━━━━━━━━━━━━━━━━━━\u001b[0m\u001b[37m\u001b[0m \u001b[1m0s\u001b[0m 3ms/step - accuracy: 0.6994 - loss: 0.5408 - val_accuracy: 0.7016 - val_loss: 0.5705\n",
      "Epoch 16/120\n",
      "\u001b[1m38/38\u001b[0m \u001b[32m━━━━━━━━━━━━━━━━━━━━\u001b[0m\u001b[37m\u001b[0m \u001b[1m0s\u001b[0m 3ms/step - accuracy: 0.7158 - loss: 0.5526 - val_accuracy: 0.7209 - val_loss: 0.5429\n",
      "Epoch 17/120\n",
      "\u001b[1m38/38\u001b[0m \u001b[32m━━━━━━━━━━━━━━━━━━━━\u001b[0m\u001b[37m\u001b[0m \u001b[1m0s\u001b[0m 3ms/step - accuracy: 0.7391 - loss: 0.5052 - val_accuracy: 0.7410 - val_loss: 0.5091\n",
      "Epoch 18/120\n",
      "\u001b[1m38/38\u001b[0m \u001b[32m━━━━━━━━━━━━━━━━━━━━\u001b[0m\u001b[37m\u001b[0m \u001b[1m0s\u001b[0m 3ms/step - accuracy: 0.7530 - loss: 0.5024 - val_accuracy: 0.7703 - val_loss: 0.4834\n",
      "Epoch 19/120\n",
      "\u001b[1m38/38\u001b[0m \u001b[32m━━━━━━━━━━━━━━━━━━━━\u001b[0m\u001b[37m\u001b[0m \u001b[1m0s\u001b[0m 3ms/step - accuracy: 0.7339 - loss: 0.4973 - val_accuracy: 0.7695 - val_loss: 0.4597\n",
      "Epoch 20/120\n",
      "\u001b[1m38/38\u001b[0m \u001b[32m━━━━━━━━━━━━━━━━━━━━\u001b[0m\u001b[37m\u001b[0m \u001b[1m0s\u001b[0m 3ms/step - accuracy: 0.7593 - loss: 0.4622 - val_accuracy: 0.6940 - val_loss: 0.5722\n",
      "Epoch 21/120\n",
      "\u001b[1m38/38\u001b[0m \u001b[32m━━━━━━━━━━━━━━━━━━━━\u001b[0m\u001b[37m\u001b[0m \u001b[1m0s\u001b[0m 3ms/step - accuracy: 0.7458 - loss: 0.4742 - val_accuracy: 0.7527 - val_loss: 0.5049\n",
      "Epoch 22/120\n",
      "\u001b[1m38/38\u001b[0m \u001b[32m━━━━━━━━━━━━━━━━━━━━\u001b[0m\u001b[37m\u001b[0m \u001b[1m0s\u001b[0m 3ms/step - accuracy: 0.7810 - loss: 0.4534 - val_accuracy: 0.7611 - val_loss: 0.4533\n",
      "Epoch 23/120\n",
      "\u001b[1m38/38\u001b[0m \u001b[32m━━━━━━━━━━━━━━━━━━━━\u001b[0m\u001b[37m\u001b[0m \u001b[1m0s\u001b[0m 3ms/step - accuracy: 0.7402 - loss: 0.4815 - val_accuracy: 0.7879 - val_loss: 0.4145\n",
      "Epoch 24/120\n",
      "\u001b[1m38/38\u001b[0m \u001b[32m━━━━━━━━━━━━━━━━━━━━\u001b[0m\u001b[37m\u001b[0m \u001b[1m0s\u001b[0m 3ms/step - accuracy: 0.7550 - loss: 0.4409 - val_accuracy: 0.7829 - val_loss: 0.4462\n",
      "Epoch 25/120\n",
      "\u001b[1m38/38\u001b[0m \u001b[32m━━━━━━━━━━━━━━━━━━━━\u001b[0m\u001b[37m\u001b[0m \u001b[1m0s\u001b[0m 3ms/step - accuracy: 0.7888 - loss: 0.4232 - val_accuracy: 0.7997 - val_loss: 0.4163\n",
      "Epoch 26/120\n",
      "\u001b[1m38/38\u001b[0m \u001b[32m━━━━━━━━━━━━━━━━━━━━\u001b[0m\u001b[37m\u001b[0m \u001b[1m0s\u001b[0m 3ms/step - accuracy: 0.7851 - loss: 0.4111 - val_accuracy: 0.8055 - val_loss: 0.4186\n",
      "Epoch 27/120\n",
      "\u001b[1m38/38\u001b[0m \u001b[32m━━━━━━━━━━━━━━━━━━━━\u001b[0m\u001b[37m\u001b[0m \u001b[1m0s\u001b[0m 3ms/step - accuracy: 0.7950 - loss: 0.4111 - val_accuracy: 0.8047 - val_loss: 0.3956\n",
      "Epoch 28/120\n",
      "\u001b[1m38/38\u001b[0m \u001b[32m━━━━━━━━━━━━━━━━━━━━\u001b[0m\u001b[37m\u001b[0m \u001b[1m0s\u001b[0m 3ms/step - accuracy: 0.7929 - loss: 0.3930 - val_accuracy: 0.7846 - val_loss: 0.4295\n",
      "Epoch 29/120\n",
      "\u001b[1m38/38\u001b[0m \u001b[32m━━━━━━━━━━━━━━━━━━━━\u001b[0m\u001b[37m\u001b[0m \u001b[1m0s\u001b[0m 3ms/step - accuracy: 0.7934 - loss: 0.4013 - val_accuracy: 0.8282 - val_loss: 0.3716\n",
      "Epoch 30/120\n",
      "\u001b[1m38/38\u001b[0m \u001b[32m━━━━━━━━━━━━━━━━━━━━\u001b[0m\u001b[37m\u001b[0m \u001b[1m0s\u001b[0m 3ms/step - accuracy: 0.8108 - loss: 0.3769 - val_accuracy: 0.7770 - val_loss: 0.3973\n",
      "Epoch 31/120\n",
      "\u001b[1m38/38\u001b[0m \u001b[32m━━━━━━━━━━━━━━━━━━━━\u001b[0m\u001b[37m\u001b[0m \u001b[1m0s\u001b[0m 3ms/step - accuracy: 0.8096 - loss: 0.3967 - val_accuracy: 0.7913 - val_loss: 0.3970\n",
      "Epoch 32/120\n",
      "\u001b[1m38/38\u001b[0m \u001b[32m━━━━━━━━━━━━━━━━━━━━\u001b[0m\u001b[37m\u001b[0m \u001b[1m0s\u001b[0m 3ms/step - accuracy: 0.8201 - loss: 0.3915 - val_accuracy: 0.8064 - val_loss: 0.3834\n",
      "Epoch 33/120\n",
      "\u001b[1m38/38\u001b[0m \u001b[32m━━━━━━━━━━━━━━━━━━━━\u001b[0m\u001b[37m\u001b[0m \u001b[1m0s\u001b[0m 3ms/step - accuracy: 0.8013 - loss: 0.3953 - val_accuracy: 0.8290 - val_loss: 0.3550\n",
      "Epoch 34/120\n",
      "\u001b[1m38/38\u001b[0m \u001b[32m━━━━━━━━━━━━━━━━━━━━\u001b[0m\u001b[37m\u001b[0m \u001b[1m0s\u001b[0m 3ms/step - accuracy: 0.8415 - loss: 0.3548 - val_accuracy: 0.8080 - val_loss: 0.4071\n",
      "Epoch 35/120\n",
      "\u001b[1m38/38\u001b[0m \u001b[32m━━━━━━━━━━━━━━━━━━━━\u001b[0m\u001b[37m\u001b[0m \u001b[1m0s\u001b[0m 3ms/step - accuracy: 0.8333 - loss: 0.3487 - val_accuracy: 0.7695 - val_loss: 0.4535\n",
      "Epoch 36/120\n",
      "\u001b[1m38/38\u001b[0m \u001b[32m━━━━━━━━━━━━━━━━━━━━\u001b[0m\u001b[37m\u001b[0m \u001b[1m0s\u001b[0m 3ms/step - accuracy: 0.7882 - loss: 0.4120 - val_accuracy: 0.8357 - val_loss: 0.3498\n",
      "Epoch 37/120\n",
      "\u001b[1m38/38\u001b[0m \u001b[32m━━━━━━━━━━━━━━━━━━━━\u001b[0m\u001b[37m\u001b[0m \u001b[1m0s\u001b[0m 3ms/step - accuracy: 0.8263 - loss: 0.3425 - val_accuracy: 0.8072 - val_loss: 0.3545\n",
      "Epoch 38/120\n",
      "\u001b[1m38/38\u001b[0m \u001b[32m━━━━━━━━━━━━━━━━━━━━\u001b[0m\u001b[37m\u001b[0m \u001b[1m0s\u001b[0m 3ms/step - accuracy: 0.8292 - loss: 0.3421 - val_accuracy: 0.8131 - val_loss: 0.3573\n",
      "Epoch 39/120\n",
      "\u001b[1m38/38\u001b[0m \u001b[32m━━━━━━━━━━━━━━━━━━━━\u001b[0m\u001b[37m\u001b[0m \u001b[1m0s\u001b[0m 3ms/step - accuracy: 0.8288 - loss: 0.3362 - val_accuracy: 0.8391 - val_loss: 0.3567\n",
      "Epoch 40/120\n",
      "\u001b[1m38/38\u001b[0m \u001b[32m━━━━━━━━━━━━━━━━━━━━\u001b[0m\u001b[37m\u001b[0m \u001b[1m0s\u001b[0m 3ms/step - accuracy: 0.8596 - loss: 0.3036 - val_accuracy: 0.8248 - val_loss: 0.3775\n",
      "Epoch 41/120\n",
      "\u001b[1m38/38\u001b[0m \u001b[32m━━━━━━━━━━━━━━━━━━━━\u001b[0m\u001b[37m\u001b[0m \u001b[1m0s\u001b[0m 2ms/step - accuracy: 0.8654 - loss: 0.3289 - val_accuracy: 0.8374 - val_loss: 0.3317\n",
      "Epoch 42/120\n",
      "\u001b[1m38/38\u001b[0m \u001b[32m━━━━━━━━━━━━━━━━━━━━\u001b[0m\u001b[37m\u001b[0m \u001b[1m0s\u001b[0m 3ms/step - accuracy: 0.8195 - loss: 0.3417 - val_accuracy: 0.8466 - val_loss: 0.3368\n",
      "Epoch 43/120\n",
      "\u001b[1m38/38\u001b[0m \u001b[32m━━━━━━━━━━━━━━━━━━━━\u001b[0m\u001b[37m\u001b[0m \u001b[1m0s\u001b[0m 3ms/step - accuracy: 0.8454 - loss: 0.3131 - val_accuracy: 0.8382 - val_loss: 0.3325\n",
      "Epoch 44/120\n",
      "\u001b[1m38/38\u001b[0m \u001b[32m━━━━━━━━━━━━━━━━━━━━\u001b[0m\u001b[37m\u001b[0m \u001b[1m0s\u001b[0m 3ms/step - accuracy: 0.8416 - loss: 0.3261 - val_accuracy: 0.8500 - val_loss: 0.3099\n",
      "Epoch 45/120\n",
      "\u001b[1m38/38\u001b[0m \u001b[32m━━━━━━━━━━━━━━━━━━━━\u001b[0m\u001b[37m\u001b[0m \u001b[1m0s\u001b[0m 3ms/step - accuracy: 0.8328 - loss: 0.3295 - val_accuracy: 0.8433 - val_loss: 0.3389\n",
      "Epoch 46/120\n",
      "\u001b[1m38/38\u001b[0m \u001b[32m━━━━━━━━━━━━━━━━━━━━\u001b[0m\u001b[37m\u001b[0m \u001b[1m0s\u001b[0m 3ms/step - accuracy: 0.8474 - loss: 0.3149 - val_accuracy: 0.8642 - val_loss: 0.3099\n",
      "Epoch 47/120\n",
      "\u001b[1m38/38\u001b[0m \u001b[32m━━━━━━━━━━━━━━━━━━━━\u001b[0m\u001b[37m\u001b[0m \u001b[1m0s\u001b[0m 3ms/step - accuracy: 0.8669 - loss: 0.3009 - val_accuracy: 0.8357 - val_loss: 0.3384\n",
      "Epoch 48/120\n",
      "\u001b[1m38/38\u001b[0m \u001b[32m━━━━━━━━━━━━━━━━━━━━\u001b[0m\u001b[37m\u001b[0m \u001b[1m0s\u001b[0m 3ms/step - accuracy: 0.8356 - loss: 0.3296 - val_accuracy: 0.8491 - val_loss: 0.3089\n",
      "Epoch 49/120\n",
      "\u001b[1m38/38\u001b[0m \u001b[32m━━━━━━━━━━━━━━━━━━━━\u001b[0m\u001b[37m\u001b[0m \u001b[1m0s\u001b[0m 3ms/step - accuracy: 0.8501 - loss: 0.3149 - val_accuracy: 0.8592 - val_loss: 0.2928\n",
      "Epoch 50/120\n",
      "\u001b[1m38/38\u001b[0m \u001b[32m━━━━━━━━━━━━━━━━━━━━\u001b[0m\u001b[37m\u001b[0m \u001b[1m0s\u001b[0m 3ms/step - accuracy: 0.8563 - loss: 0.3037 - val_accuracy: 0.8625 - val_loss: 0.3146\n",
      "Epoch 51/120\n",
      "\u001b[1m38/38\u001b[0m \u001b[32m━━━━━━━━━━━━━━━━━━━━\u001b[0m\u001b[37m\u001b[0m \u001b[1m0s\u001b[0m 3ms/step - accuracy: 0.8767 - loss: 0.2804 - val_accuracy: 0.8365 - val_loss: 0.3317\n",
      "Epoch 52/120\n",
      "\u001b[1m38/38\u001b[0m \u001b[32m━━━━━━━━━━━━━━━━━━━━\u001b[0m\u001b[37m\u001b[0m \u001b[1m0s\u001b[0m 3ms/step - accuracy: 0.8699 - loss: 0.2861 - val_accuracy: 0.8600 - val_loss: 0.2721\n",
      "Epoch 53/120\n",
      "\u001b[1m38/38\u001b[0m \u001b[32m━━━━━━━━━━━━━━━━━━━━\u001b[0m\u001b[37m\u001b[0m \u001b[1m0s\u001b[0m 3ms/step - accuracy: 0.8589 - loss: 0.2806 - val_accuracy: 0.8709 - val_loss: 0.2891\n",
      "Epoch 54/120\n",
      "\u001b[1m38/38\u001b[0m \u001b[32m━━━━━━━━━━━━━━━━━━━━\u001b[0m\u001b[37m\u001b[0m \u001b[1m0s\u001b[0m 3ms/step - accuracy: 0.8853 - loss: 0.2648 - val_accuracy: 0.7427 - val_loss: 0.4326\n",
      "Epoch 55/120\n",
      "\u001b[1m38/38\u001b[0m \u001b[32m━━━━━━━━━━━━━━━━━━━━\u001b[0m\u001b[37m\u001b[0m \u001b[1m0s\u001b[0m 3ms/step - accuracy: 0.8532 - loss: 0.3386 - val_accuracy: 0.8743 - val_loss: 0.2841\n",
      "Epoch 56/120\n",
      "\u001b[1m38/38\u001b[0m \u001b[32m━━━━━━━━━━━━━━━━━━━━\u001b[0m\u001b[37m\u001b[0m \u001b[1m0s\u001b[0m 3ms/step - accuracy: 0.8606 - loss: 0.2679 - val_accuracy: 0.8491 - val_loss: 0.2841\n",
      "Epoch 57/120\n",
      "\u001b[1m38/38\u001b[0m \u001b[32m━━━━━━━━━━━━━━━━━━━━\u001b[0m\u001b[37m\u001b[0m \u001b[1m0s\u001b[0m 3ms/step - accuracy: 0.8723 - loss: 0.2656 - val_accuracy: 0.8307 - val_loss: 0.3181\n",
      "Epoch 58/120\n",
      "\u001b[1m38/38\u001b[0m \u001b[32m━━━━━━━━━━━━━━━━━━━━\u001b[0m\u001b[37m\u001b[0m \u001b[1m0s\u001b[0m 3ms/step - accuracy: 0.8508 - loss: 0.3120 - val_accuracy: 0.8575 - val_loss: 0.2950\n",
      "Epoch 59/120\n",
      "\u001b[1m38/38\u001b[0m \u001b[32m━━━━━━━━━━━━━━━━━━━━\u001b[0m\u001b[37m\u001b[0m \u001b[1m0s\u001b[0m 3ms/step - accuracy: 0.8520 - loss: 0.2843 - val_accuracy: 0.8910 - val_loss: 0.2518\n",
      "Epoch 60/120\n",
      "\u001b[1m38/38\u001b[0m \u001b[32m━━━━━━━━━━━━━━━━━━━━\u001b[0m\u001b[37m\u001b[0m \u001b[1m0s\u001b[0m 3ms/step - accuracy: 0.8750 - loss: 0.2491 - val_accuracy: 0.8994 - val_loss: 0.2487\n",
      "Epoch 61/120\n",
      "\u001b[1m38/38\u001b[0m \u001b[32m━━━━━━━━━━━━━━━━━━━━\u001b[0m\u001b[37m\u001b[0m \u001b[1m0s\u001b[0m 3ms/step - accuracy: 0.8803 - loss: 0.2429 - val_accuracy: 0.8843 - val_loss: 0.2608\n",
      "Epoch 62/120\n",
      "\u001b[1m38/38\u001b[0m \u001b[32m━━━━━━━━━━━━━━━━━━━━\u001b[0m\u001b[37m\u001b[0m \u001b[1m0s\u001b[0m 3ms/step - accuracy: 0.8709 - loss: 0.2437 - val_accuracy: 0.8843 - val_loss: 0.2631\n",
      "Epoch 63/120\n",
      "\u001b[1m38/38\u001b[0m \u001b[32m━━━━━━━━━━━━━━━━━━━━\u001b[0m\u001b[37m\u001b[0m \u001b[1m0s\u001b[0m 3ms/step - accuracy: 0.8747 - loss: 0.2646 - val_accuracy: 0.8759 - val_loss: 0.2705\n",
      "Epoch 64/120\n",
      "\u001b[1m38/38\u001b[0m \u001b[32m━━━━━━━━━━━━━━━━━━━━\u001b[0m\u001b[37m\u001b[0m \u001b[1m0s\u001b[0m 3ms/step - accuracy: 0.8742 - loss: 0.2550 - val_accuracy: 0.8801 - val_loss: 0.2785\n",
      "Epoch 65/120\n",
      "\u001b[1m38/38\u001b[0m \u001b[32m━━━━━━━━━━━━━━━━━━━━\u001b[0m\u001b[37m\u001b[0m \u001b[1m0s\u001b[0m 3ms/step - accuracy: 0.8849 - loss: 0.2560 - val_accuracy: 0.8919 - val_loss: 0.2629\n",
      "Epoch 66/120\n",
      "\u001b[1m38/38\u001b[0m \u001b[32m━━━━━━━━━━━━━━━━━━━━\u001b[0m\u001b[37m\u001b[0m \u001b[1m0s\u001b[0m 3ms/step - accuracy: 0.8800 - loss: 0.2405 - val_accuracy: 0.8810 - val_loss: 0.2753\n",
      "Epoch 67/120\n",
      "\u001b[1m38/38\u001b[0m \u001b[32m━━━━━━━━━━━━━━━━━━━━\u001b[0m\u001b[37m\u001b[0m \u001b[1m0s\u001b[0m 3ms/step - accuracy: 0.9038 - loss: 0.2266 - val_accuracy: 0.8868 - val_loss: 0.2514\n",
      "Epoch 68/120\n",
      "\u001b[1m38/38\u001b[0m \u001b[32m━━━━━━━━━━━━━━━━━━━━\u001b[0m\u001b[37m\u001b[0m \u001b[1m0s\u001b[0m 3ms/step - accuracy: 0.8634 - loss: 0.2477 - val_accuracy: 0.8617 - val_loss: 0.2769\n",
      "Epoch 69/120\n",
      "\u001b[1m38/38\u001b[0m \u001b[32m━━━━━━━━━━━━━━━━━━━━\u001b[0m\u001b[37m\u001b[0m \u001b[1m0s\u001b[0m 2ms/step - accuracy: 0.8774 - loss: 0.2288 - val_accuracy: 0.8768 - val_loss: 0.2535\n",
      "Epoch 70/120\n",
      "\u001b[1m38/38\u001b[0m \u001b[32m━━━━━━━━━━━━━━━━━━━━\u001b[0m\u001b[37m\u001b[0m \u001b[1m0s\u001b[0m 3ms/step - accuracy: 0.8843 - loss: 0.2640 - val_accuracy: 0.8902 - val_loss: 0.2489\n",
      "Epoch 71/120\n",
      "\u001b[1m38/38\u001b[0m \u001b[32m━━━━━━━━━━━━━━━━━━━━\u001b[0m\u001b[37m\u001b[0m \u001b[1m0s\u001b[0m 3ms/step - accuracy: 0.8641 - loss: 0.2664 - val_accuracy: 0.9053 - val_loss: 0.2451\n",
      "Epoch 72/120\n",
      "\u001b[1m38/38\u001b[0m \u001b[32m━━━━━━━━━━━━━━━━━━━━\u001b[0m\u001b[37m\u001b[0m \u001b[1m0s\u001b[0m 3ms/step - accuracy: 0.9016 - loss: 0.2191 - val_accuracy: 0.8977 - val_loss: 0.2314\n",
      "Epoch 73/120\n",
      "\u001b[1m38/38\u001b[0m \u001b[32m━━━━━━━━━━━━━━━━━━━━\u001b[0m\u001b[37m\u001b[0m \u001b[1m0s\u001b[0m 5ms/step - accuracy: 0.8893 - loss: 0.2361 - val_accuracy: 0.8776 - val_loss: 0.2515\n",
      "Epoch 74/120\n",
      "\u001b[1m38/38\u001b[0m \u001b[32m━━━━━━━━━━━━━━━━━━━━\u001b[0m\u001b[37m\u001b[0m \u001b[1m0s\u001b[0m 3ms/step - accuracy: 0.8915 - loss: 0.2493 - val_accuracy: 0.8650 - val_loss: 0.2439\n",
      "Epoch 75/120\n",
      "\u001b[1m38/38\u001b[0m \u001b[32m━━━━━━━━━━━━━━━━━━━━\u001b[0m\u001b[37m\u001b[0m \u001b[1m0s\u001b[0m 3ms/step - accuracy: 0.8650 - loss: 0.2349 - val_accuracy: 0.8835 - val_loss: 0.2618\n",
      "Epoch 76/120\n",
      "\u001b[1m38/38\u001b[0m \u001b[32m━━━━━━━━━━━━━━━━━━━━\u001b[0m\u001b[37m\u001b[0m \u001b[1m0s\u001b[0m 3ms/step - accuracy: 0.8764 - loss: 0.2444 - val_accuracy: 0.8910 - val_loss: 0.2385\n",
      "Epoch 77/120\n",
      "\u001b[1m38/38\u001b[0m \u001b[32m━━━━━━━━━━━━━━━━━━━━\u001b[0m\u001b[37m\u001b[0m \u001b[1m0s\u001b[0m 3ms/step - accuracy: 0.8788 - loss: 0.2458 - val_accuracy: 0.8961 - val_loss: 0.2333\n",
      "Epoch 78/120\n",
      "\u001b[1m38/38\u001b[0m \u001b[32m━━━━━━━━━━━━━━━━━━━━\u001b[0m\u001b[37m\u001b[0m \u001b[1m0s\u001b[0m 3ms/step - accuracy: 0.9014 - loss: 0.2057 - val_accuracy: 0.8969 - val_loss: 0.2326\n",
      "Epoch 79/120\n",
      "\u001b[1m38/38\u001b[0m \u001b[32m━━━━━━━━━━━━━━━━━━━━\u001b[0m\u001b[37m\u001b[0m \u001b[1m0s\u001b[0m 3ms/step - accuracy: 0.9112 - loss: 0.1958 - val_accuracy: 0.8910 - val_loss: 0.2477\n",
      "Epoch 80/120\n",
      "\u001b[1m38/38\u001b[0m \u001b[32m━━━━━━━━━━━━━━━━━━━━\u001b[0m\u001b[37m\u001b[0m \u001b[1m0s\u001b[0m 3ms/step - accuracy: 0.9001 - loss: 0.2093 - val_accuracy: 0.8793 - val_loss: 0.3095\n",
      "Epoch 81/120\n",
      "\u001b[1m38/38\u001b[0m \u001b[32m━━━━━━━━━━━━━━━━━━━━\u001b[0m\u001b[37m\u001b[0m \u001b[1m0s\u001b[0m 2ms/step - accuracy: 0.8866 - loss: 0.2448 - val_accuracy: 0.8961 - val_loss: 0.2282\n",
      "Epoch 82/120\n",
      "\u001b[1m38/38\u001b[0m \u001b[32m━━━━━━━━━━━━━━━━━━━━\u001b[0m\u001b[37m\u001b[0m \u001b[1m0s\u001b[0m 3ms/step - accuracy: 0.8942 - loss: 0.2214 - val_accuracy: 0.8692 - val_loss: 0.2685\n",
      "Epoch 83/120\n",
      "\u001b[1m38/38\u001b[0m \u001b[32m━━━━━━━━━━━━━━━━━━━━\u001b[0m\u001b[37m\u001b[0m \u001b[1m0s\u001b[0m 3ms/step - accuracy: 0.8763 - loss: 0.2368 - val_accuracy: 0.8919 - val_loss: 0.2412\n",
      "Epoch 84/120\n",
      "\u001b[1m38/38\u001b[0m \u001b[32m━━━━━━━━━━━━━━━━━━━━\u001b[0m\u001b[37m\u001b[0m \u001b[1m0s\u001b[0m 2ms/step - accuracy: 0.8896 - loss: 0.2297 - val_accuracy: 0.8609 - val_loss: 0.3090\n",
      "Epoch 85/120\n",
      "\u001b[1m38/38\u001b[0m \u001b[32m━━━━━━━━━━━━━━━━━━━━\u001b[0m\u001b[37m\u001b[0m \u001b[1m0s\u001b[0m 3ms/step - accuracy: 0.8878 - loss: 0.2299 - val_accuracy: 0.8919 - val_loss: 0.2357\n",
      "Epoch 86/120\n",
      "\u001b[1m38/38\u001b[0m \u001b[32m━━━━━━━━━━━━━━━━━━━━\u001b[0m\u001b[37m\u001b[0m \u001b[1m0s\u001b[0m 3ms/step - accuracy: 0.8826 - loss: 0.2198 - val_accuracy: 0.8910 - val_loss: 0.2774\n",
      "Epoch 87/120\n",
      "\u001b[1m38/38\u001b[0m \u001b[32m━━━━━━━━━━━━━━━━━━━━\u001b[0m\u001b[37m\u001b[0m \u001b[1m0s\u001b[0m 3ms/step - accuracy: 0.8933 - loss: 0.2054 - val_accuracy: 0.9061 - val_loss: 0.2240\n",
      "Epoch 88/120\n",
      "\u001b[1m38/38\u001b[0m \u001b[32m━━━━━━━━━━━━━━━━━━━━\u001b[0m\u001b[37m\u001b[0m \u001b[1m0s\u001b[0m 2ms/step - accuracy: 0.8864 - loss: 0.2267 - val_accuracy: 0.8843 - val_loss: 0.2587\n",
      "Epoch 89/120\n",
      "\u001b[1m38/38\u001b[0m \u001b[32m━━━━━━━━━━━━━━━━━━━━\u001b[0m\u001b[37m\u001b[0m \u001b[1m0s\u001b[0m 3ms/step - accuracy: 0.8981 - loss: 0.2163 - val_accuracy: 0.9086 - val_loss: 0.2112\n",
      "Epoch 90/120\n",
      "\u001b[1m38/38\u001b[0m \u001b[32m━━━━━━━━━━━━━━━━━━━━\u001b[0m\u001b[37m\u001b[0m \u001b[1m0s\u001b[0m 3ms/step - accuracy: 0.9204 - loss: 0.1799 - val_accuracy: 0.8919 - val_loss: 0.2440\n",
      "Epoch 91/120\n",
      "\u001b[1m38/38\u001b[0m \u001b[32m━━━━━━━━━━━━━━━━━━━━\u001b[0m\u001b[37m\u001b[0m \u001b[1m0s\u001b[0m 3ms/step - accuracy: 0.8959 - loss: 0.2041 - val_accuracy: 0.9070 - val_loss: 0.2093\n",
      "Epoch 92/120\n",
      "\u001b[1m38/38\u001b[0m \u001b[32m━━━━━━━━━━━━━━━━━━━━\u001b[0m\u001b[37m\u001b[0m \u001b[1m0s\u001b[0m 3ms/step - accuracy: 0.8844 - loss: 0.2026 - val_accuracy: 0.8961 - val_loss: 0.2449\n",
      "Epoch 93/120\n",
      "\u001b[1m38/38\u001b[0m \u001b[32m━━━━━━━━━━━━━━━━━━━━\u001b[0m\u001b[37m\u001b[0m \u001b[1m0s\u001b[0m 3ms/step - accuracy: 0.9084 - loss: 0.1874 - val_accuracy: 0.8860 - val_loss: 0.2330\n",
      "Epoch 94/120\n",
      "\u001b[1m38/38\u001b[0m \u001b[32m━━━━━━━━━━━━━━━━━━━━\u001b[0m\u001b[37m\u001b[0m \u001b[1m0s\u001b[0m 3ms/step - accuracy: 0.9090 - loss: 0.2010 - val_accuracy: 0.9086 - val_loss: 0.2236\n",
      "Epoch 95/120\n",
      "\u001b[1m38/38\u001b[0m \u001b[32m━━━━━━━━━━━━━━━━━━━━\u001b[0m\u001b[37m\u001b[0m \u001b[1m0s\u001b[0m 3ms/step - accuracy: 0.8964 - loss: 0.1998 - val_accuracy: 0.9070 - val_loss: 0.2080\n",
      "Epoch 96/120\n",
      "\u001b[1m38/38\u001b[0m \u001b[32m━━━━━━━━━━━━━━━━━━━━\u001b[0m\u001b[37m\u001b[0m \u001b[1m0s\u001b[0m 3ms/step - accuracy: 0.9002 - loss: 0.1908 - val_accuracy: 0.8919 - val_loss: 0.2482\n",
      "Epoch 97/120\n",
      "\u001b[1m38/38\u001b[0m \u001b[32m━━━━━━━━━━━━━━━━━━━━\u001b[0m\u001b[37m\u001b[0m \u001b[1m0s\u001b[0m 3ms/step - accuracy: 0.9041 - loss: 0.2081 - val_accuracy: 0.8868 - val_loss: 0.2637\n",
      "Epoch 98/120\n",
      "\u001b[1m38/38\u001b[0m \u001b[32m━━━━━━━━━━━━━━━━━━━━\u001b[0m\u001b[37m\u001b[0m \u001b[1m0s\u001b[0m 3ms/step - accuracy: 0.9030 - loss: 0.1823 - val_accuracy: 0.8885 - val_loss: 0.2454\n",
      "Epoch 99/120\n",
      "\u001b[1m38/38\u001b[0m \u001b[32m━━━━━━━━━━━━━━━━━━━━\u001b[0m\u001b[37m\u001b[0m \u001b[1m0s\u001b[0m 3ms/step - accuracy: 0.8981 - loss: 0.2026 - val_accuracy: 0.8474 - val_loss: 0.3222\n",
      "Epoch 100/120\n",
      "\u001b[1m38/38\u001b[0m \u001b[32m━━━━━━━━━━━━━━━━━━━━\u001b[0m\u001b[37m\u001b[0m \u001b[1m0s\u001b[0m 3ms/step - accuracy: 0.8816 - loss: 0.2234 - val_accuracy: 0.9044 - val_loss: 0.2106\n",
      "Epoch 101/120\n",
      "\u001b[1m38/38\u001b[0m \u001b[32m━━━━━━━━━━━━━━━━━━━━\u001b[0m\u001b[37m\u001b[0m \u001b[1m0s\u001b[0m 3ms/step - accuracy: 0.9009 - loss: 0.1903 - val_accuracy: 0.8944 - val_loss: 0.2341\n",
      "Epoch 102/120\n",
      "\u001b[1m38/38\u001b[0m \u001b[32m━━━━━━━━━━━━━━━━━━━━\u001b[0m\u001b[37m\u001b[0m \u001b[1m0s\u001b[0m 3ms/step - accuracy: 0.9161 - loss: 0.1713 - val_accuracy: 0.9003 - val_loss: 0.2203\n",
      "Epoch 103/120\n",
      "\u001b[1m38/38\u001b[0m \u001b[32m━━━━━━━━━━━━━━━━━━━━\u001b[0m\u001b[37m\u001b[0m \u001b[1m0s\u001b[0m 3ms/step - accuracy: 0.8900 - loss: 0.2102 - val_accuracy: 0.8701 - val_loss: 0.2605\n",
      "Epoch 104/120\n",
      "\u001b[1m38/38\u001b[0m \u001b[32m━━━━━━━━━━━━━━━━━━━━\u001b[0m\u001b[37m\u001b[0m \u001b[1m0s\u001b[0m 3ms/step - accuracy: 0.8918 - loss: 0.2086 - val_accuracy: 0.8894 - val_loss: 0.2277\n",
      "Epoch 105/120\n",
      "\u001b[1m38/38\u001b[0m \u001b[32m━━━━━━━━━━━━━━━━━━━━\u001b[0m\u001b[37m\u001b[0m \u001b[1m0s\u001b[0m 3ms/step - accuracy: 0.9019 - loss: 0.2004 - val_accuracy: 0.8877 - val_loss: 0.2147\n",
      "Epoch 106/120\n",
      "\u001b[1m38/38\u001b[0m \u001b[32m━━━━━━━━━━━━━━━━━━━━\u001b[0m\u001b[37m\u001b[0m \u001b[1m0s\u001b[0m 3ms/step - accuracy: 0.8922 - loss: 0.1865 - val_accuracy: 0.8935 - val_loss: 0.2236\n",
      "Epoch 107/120\n",
      "\u001b[1m38/38\u001b[0m \u001b[32m━━━━━━━━━━━━━━━━━━━━\u001b[0m\u001b[37m\u001b[0m \u001b[1m0s\u001b[0m 3ms/step - accuracy: 0.9014 - loss: 0.2012 - val_accuracy: 0.8961 - val_loss: 0.2336\n",
      "Epoch 108/120\n",
      "\u001b[1m38/38\u001b[0m \u001b[32m━━━━━━━━━━━━━━━━━━━━\u001b[0m\u001b[37m\u001b[0m \u001b[1m0s\u001b[0m 2ms/step - accuracy: 0.8926 - loss: 0.2006 - val_accuracy: 0.9086 - val_loss: 0.2466\n",
      "Epoch 109/120\n",
      "\u001b[1m38/38\u001b[0m \u001b[32m━━━━━━━━━━━━━━━━━━━━\u001b[0m\u001b[37m\u001b[0m \u001b[1m0s\u001b[0m 3ms/step - accuracy: 0.9089 - loss: 0.1863 - val_accuracy: 0.8961 - val_loss: 0.2092\n",
      "Epoch 110/120\n",
      "\u001b[1m38/38\u001b[0m \u001b[32m━━━━━━━━━━━━━━━━━━━━\u001b[0m\u001b[37m\u001b[0m \u001b[1m0s\u001b[0m 5ms/step - accuracy: 0.8892 - loss: 0.2002 - val_accuracy: 0.9103 - val_loss: 0.2096\n",
      "Epoch 111/120\n",
      "\u001b[1m38/38\u001b[0m \u001b[32m━━━━━━━━━━━━━━━━━━━━\u001b[0m\u001b[37m\u001b[0m \u001b[1m0s\u001b[0m 2ms/step - accuracy: 0.8863 - loss: 0.2132 - val_accuracy: 0.9053 - val_loss: 0.2039\n",
      "Epoch 112/120\n",
      "\u001b[1m38/38\u001b[0m \u001b[32m━━━━━━━━━━━━━━━━━━━━\u001b[0m\u001b[37m\u001b[0m \u001b[1m0s\u001b[0m 3ms/step - accuracy: 0.8979 - loss: 0.1890 - val_accuracy: 0.9044 - val_loss: 0.2159\n",
      "Epoch 113/120\n",
      "\u001b[1m38/38\u001b[0m \u001b[32m━━━━━━━━━━━━━━━━━━━━\u001b[0m\u001b[37m\u001b[0m \u001b[1m0s\u001b[0m 2ms/step - accuracy: 0.8828 - loss: 0.2016 - val_accuracy: 0.8877 - val_loss: 0.2677\n",
      "Epoch 114/120\n",
      "\u001b[1m38/38\u001b[0m \u001b[32m━━━━━━━━━━━━━━━━━━━━\u001b[0m\u001b[37m\u001b[0m \u001b[1m0s\u001b[0m 3ms/step - accuracy: 0.9017 - loss: 0.2012 - val_accuracy: 0.9028 - val_loss: 0.2222\n",
      "Epoch 115/120\n",
      "\u001b[1m38/38\u001b[0m \u001b[32m━━━━━━━━━━━━━━━━━━━━\u001b[0m\u001b[37m\u001b[0m \u001b[1m0s\u001b[0m 2ms/step - accuracy: 0.9117 - loss: 0.1876 - val_accuracy: 0.8701 - val_loss: 0.2447\n",
      "Epoch 116/120\n",
      "\u001b[1m38/38\u001b[0m \u001b[32m━━━━━━━━━━━━━━━━━━━━\u001b[0m\u001b[37m\u001b[0m \u001b[1m0s\u001b[0m 3ms/step - accuracy: 0.9053 - loss: 0.1902 - val_accuracy: 0.8935 - val_loss: 0.2217\n",
      "Epoch 117/120\n",
      "\u001b[1m38/38\u001b[0m \u001b[32m━━━━━━━━━━━━━━━━━━━━\u001b[0m\u001b[37m\u001b[0m \u001b[1m0s\u001b[0m 2ms/step - accuracy: 0.8997 - loss: 0.1939 - val_accuracy: 0.8826 - val_loss: 0.2494\n",
      "Epoch 118/120\n",
      "\u001b[1m38/38\u001b[0m \u001b[32m━━━━━━━━━━━━━━━━━━━━\u001b[0m\u001b[37m\u001b[0m \u001b[1m0s\u001b[0m 3ms/step - accuracy: 0.9108 - loss: 0.1789 - val_accuracy: 0.9028 - val_loss: 0.2028\n",
      "Epoch 119/120\n",
      "\u001b[1m38/38\u001b[0m \u001b[32m━━━━━━━━━━━━━━━━━━━━\u001b[0m\u001b[37m\u001b[0m \u001b[1m0s\u001b[0m 3ms/step - accuracy: 0.9066 - loss: 0.2080 - val_accuracy: 0.9070 - val_loss: 0.2138\n",
      "Epoch 120/120\n",
      "\u001b[1m38/38\u001b[0m \u001b[32m━━━━━━━━━━━━━━━━━━━━\u001b[0m\u001b[37m\u001b[0m \u001b[1m0s\u001b[0m 3ms/step - accuracy: 0.8962 - loss: 0.1820 - val_accuracy: 0.9103 - val_loss: 0.2095\n"
     ]
    },
    {
     "data": {
      "text/plain": [
       "<keras.src.callbacks.history.History at 0x2629d78c9b0>"
      ]
     },
     "execution_count": 9,
     "metadata": {},
     "output_type": "execute_result"
    }
   ],
   "source": [
    "model.fit(X_train_scaled, y_train, validation_split=0.5, epochs = 120)"
   ]
  },
  {
   "cell_type": "code",
   "execution_count": 12,
   "id": "204e8286-c1cf-4a7e-b64c-43afad0b7ebd",
   "metadata": {},
   "outputs": [
    {
     "data": {
      "text/plain": [
       "0.914572864321608"
      ]
     },
     "execution_count": 12,
     "metadata": {},
     "output_type": "execute_result"
    }
   ],
   "source": [
    "y_pred = model(X_test_scaled)\n",
    "accuracy_score(y_test,np.round(y_pred))"
   ]
  },
  {
   "cell_type": "code",
   "execution_count": 13,
   "id": "cba39a2c-324b-4f54-82d7-addeb1c96d2b",
   "metadata": {},
   "outputs": [
    {
     "data": {
      "text/plain": [
       "np.float64(0.9671670117322291)"
      ]
     },
     "execution_count": 13,
     "metadata": {},
     "output_type": "execute_result"
    }
   ],
   "source": [
    "roc_auc_score(y_test, y_pred)"
   ]
  },
  {
   "cell_type": "code",
   "execution_count": 19,
   "id": "fbd72b1d-55ce-47f0-a3a9-e723c795292e",
   "metadata": {},
   "outputs": [
    {
     "data": {
      "text/plain": [
       "<sklearn.metrics._plot.roc_curve.RocCurveDisplay at 0x2629c4875f0>"
      ]
     },
     "execution_count": 19,
     "metadata": {},
     "output_type": "execute_result"
    },
    {
     "data": {
      "image/png": "[encoded data removed]",
      "text/plain": [
       "<Figure size 640x480 with 1 Axes>"
      ]
     },
     "metadata": {},
     "output_type": "display_data"
    }
   ],
   "source": [
    "RocCurveDisplay.from_predictions(y_test, y_pred)"
   ]
  },
  {
   "cell_type": "code",
   "execution_count": null,
   "id": "333159ea-d6fe-484f-bea5-c07427370bb2",
   "metadata": {},
   "outputs": [],
   "source": []
  }
 ],
 "metadata": {
  "kernelspec": {
   "display_name": "Python 3 (ipykernel)",
   "language": "python",
   "name": "python3"
  },
  "language_info": {
   "codemirror_mode": {
    "name": "ipython",
    "version": 3
   },
   "file_extension": ".py",
   "mimetype": "text/x-python",
   "name": "python",
   "nbconvert_exporter": "python",
   "pygments_lexer": "ipython3",
   "version": "3.12.0"
  }
 },
 "nbformat": 4,
 "nbformat_minor": 5
}
