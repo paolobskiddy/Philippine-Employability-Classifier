{
 "cells": [
  {
   "cell_type": "code",
   "execution_count": null,
   "id": "ccf5bf99",
   "metadata": {},
   "outputs": [],
   "source": [
    "from tensorflow.keras.models import load_model\n",
    "import pandas as pd\n",
    "import pickle\n",
    "from sklearn.metrics import accuracy_score, roc_auc_score, RocCurveDisplay, classification_report\n",
    "import numpy as np"
   ]
  },
  {
   "cell_type": "code",
   "execution_count": 6,
   "id": "2c56de70",
   "metadata": {},
   "outputs": [
    {
     "name": "stderr",
     "output_type": "stream",
     "text": [
      "C:\\Users\\ML_USER\\AppData\\Roaming\\Python\\Python312\\site-packages\\sklearn\\base.py:380: InconsistentVersionWarning: Trying to unpickle estimator StandardScaler from version 1.6.0 when using version 1.6.1. This might lead to breaking code or invalid results. Use at your own risk. For more info please refer to:\n",
      "https://scikit-learn.org/stable/model_persistence.html#security-maintainability-limitations\n",
      "  warnings.warn(\n",
      "C:\\Users\\ML_USER\\AppData\\Roaming\\Python\\Python312\\site-packages\\sklearn\\base.py:380: InconsistentVersionWarning: Trying to unpickle estimator PowerTransformer from version 1.6.0 when using version 1.6.1. This might lead to breaking code or invalid results. Use at your own risk. For more info please refer to:\n",
      "https://scikit-learn.org/stable/model_persistence.html#security-maintainability-limitations\n",
      "  warnings.warn(\n"
     ]
    }
   ],
   "source": [
    "test = pd.read_csv(\"../Data/Test.csv\")\n",
    "model_loc = \"../Models/RFC_model.sav\"\n",
    "scaler_loc = \"../tools/power_transform.sav\"\n",
    "model = pickle.load(open(model_loc,'rb'))\n",
    "scaler = pickle.load(open(scaler_loc, 'rb'))"
   ]
  },
  {
   "cell_type": "code",
   "execution_count": 7,
   "id": "5d4aabab",
   "metadata": {},
   "outputs": [],
   "source": [
    "X = test.iloc[:,1:]\n",
    "y = X.pop(\"CLASS\")\n",
    "\n",
    "X_test_scaled = scaler.transform(X)"
   ]
  },
  {
   "cell_type": "code",
   "execution_count": 19,
   "id": "63faf73c",
   "metadata": {},
   "outputs": [],
   "source": [
    "pred = model.predict_proba(X_test_scaled)[:,1]"
   ]
  },
  {
   "cell_type": "code",
   "execution_count": 20,
   "id": "158ad27d",
   "metadata": {},
   "outputs": [
    {
     "data": {
      "text/plain": [
       "(2385,)"
      ]
     },
     "execution_count": 20,
     "metadata": {},
     "output_type": "execute_result"
    }
   ],
   "source": [
    "pred.shape"
   ]
  },
  {
   "cell_type": "code",
   "execution_count": 21,
   "id": "3939a79b",
   "metadata": {},
   "outputs": [
    {
     "data": {
      "text/plain": [
       "0.9811043134266536"
      ]
     },
     "execution_count": 21,
     "metadata": {},
     "output_type": "execute_result"
    }
   ],
   "source": [
    "roc_auc_score(y, pred)"
   ]
  },
  {
   "cell_type": "code",
   "execution_count": 22,
   "id": "877bb000",
   "metadata": {},
   "outputs": [
    {
     "data": {
      "text/plain": [
       "<sklearn.metrics._plot.roc_curve.RocCurveDisplay at 0x1b3bf5d40e0>"
      ]
     },
     "execution_count": 22,
     "metadata": {},
     "output_type": "execute_result"
    },
    {
     "data": {
      "image/png": "[encoded data removed]",
      "text/plain": [
       "<Figure size 640x480 with 1 Axes>"
      ]
     },
     "metadata": {},
     "output_type": "display_data"
    }
   ],
   "source": [
    "RocCurveDisplay.from_predictions(y, pred)"
   ]
  },
  {
   "cell_type": "code",
   "execution_count": 23,
   "id": "7e86f1d0",
   "metadata": {},
   "outputs": [
    {
     "data": {
      "text/html": [
       "<div>\n",
       "<style scoped>\n",
       "    .dataframe tbody tr th:only-of-type {\n",
       "        vertical-align: middle;\n",
       "    }\n",
       "\n",
       "    .dataframe tbody tr th {\n",
       "        vertical-align: top;\n",
       "    }\n",
       "\n",
       "    .dataframe thead th {\n",
       "        text-align: right;\n",
       "    }\n",
       "</style>\n",
       "<table border=\"1\" class=\"dataframe\">\n",
       "  <thead>\n",
       "    <tr style=\"text-align: right;\">\n",
       "      <th></th>\n",
       "      <th>precision</th>\n",
       "      <th>recall</th>\n",
       "      <th>f1-score</th>\n",
       "      <th>support</th>\n",
       "    </tr>\n",
       "  </thead>\n",
       "  <tbody>\n",
       "    <tr>\n",
       "      <th>0</th>\n",
       "      <td>0.906122</td>\n",
       "      <td>0.886228</td>\n",
       "      <td>0.896065</td>\n",
       "      <td>1002.000000</td>\n",
       "    </tr>\n",
       "    <tr>\n",
       "      <th>1</th>\n",
       "      <td>0.918861</td>\n",
       "      <td>0.933478</td>\n",
       "      <td>0.926112</td>\n",
       "      <td>1383.000000</td>\n",
       "    </tr>\n",
       "    <tr>\n",
       "      <th>accuracy</th>\n",
       "      <td>0.913627</td>\n",
       "      <td>0.913627</td>\n",
       "      <td>0.913627</td>\n",
       "      <td>0.913627</td>\n",
       "    </tr>\n",
       "    <tr>\n",
       "      <th>macro avg</th>\n",
       "      <td>0.912492</td>\n",
       "      <td>0.909853</td>\n",
       "      <td>0.911088</td>\n",
       "      <td>2385.000000</td>\n",
       "    </tr>\n",
       "    <tr>\n",
       "      <th>weighted avg</th>\n",
       "      <td>0.913509</td>\n",
       "      <td>0.913627</td>\n",
       "      <td>0.913488</td>\n",
       "      <td>2385.000000</td>\n",
       "    </tr>\n",
       "  </tbody>\n",
       "</table>\n",
       "</div>"
      ],
      "text/plain": [
       "              precision    recall  f1-score      support\n",
       "0              0.906122  0.886228  0.896065  1002.000000\n",
       "1              0.918861  0.933478  0.926112  1383.000000\n",
       "accuracy       0.913627  0.913627  0.913627     0.913627\n",
       "macro avg      0.912492  0.909853  0.911088  2385.000000\n",
       "weighted avg   0.913509  0.913627  0.913488  2385.000000"
      ]
     },
     "execution_count": 23,
     "metadata": {},
     "output_type": "execute_result"
    }
   ],
   "source": [
    "report = classification_report(y,np.round(pred), output_dict=True)\n",
    "pd.DataFrame(report).T"
   ]
  },
  {
   "cell_type": "code",
   "execution_count": null,
   "id": "643f797a",
   "metadata": {},
   "outputs": [],
   "source": []
  }
 ],
 "metadata": {
  "kernelspec": {
   "display_name": "Python 3",
   "language": "python",
   "name": "python3"
  },
  "language_info": {
   "codemirror_mode": {
    "name": "ipython",
    "version": 3
   },
   "file_extension": ".py",
   "mimetype": "text/x-python",
   "name": "python",
   "nbconvert_exporter": "python",
   "pygments_lexer": "ipython3",
   "version": "3.12.0"
  }
 },
 "nbformat": 4,
 "nbformat_minor": 5
}
